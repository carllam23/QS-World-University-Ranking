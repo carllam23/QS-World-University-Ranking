{
 "cells": [
  {
   "cell_type": "markdown",
   "metadata": {},
   "source": [
    "# Project Title - QS Top Universities Ranking\n",
    "\n",
    "TODO - Write some introduction about your project here: describe the dataset, where you got it from, what you're trying to do with it, and which tools & techniques you're using. You can also mention about the course [Data Analysis with Python: Zero to Pandas](zerotopandas.com), and what you've learned from it."
   ]
  },
  {
   "cell_type": "markdown",
   "metadata": {},
   "source": [
    "## Downloading the Dataset\n"
   ]
  },
  {
   "cell_type": "code",
   "execution_count": 1,
   "metadata": {},
   "outputs": [],
   "source": [
    "!pip install jovian opendatasets --upgrade --quiet"
   ]
  },
  {
   "cell_type": "markdown",
   "metadata": {},
   "source": [
    "Let's begin by downloading the data, and listing the files within the dataset."
   ]
  },
  {
   "cell_type": "code",
   "execution_count": 2,
   "metadata": {},
   "outputs": [],
   "source": [
    "dataset_url = 'https://www.kaggle.com/prasertk/qs-world-university-rankings-2021' "
   ]
  },
  {
   "cell_type": "code",
   "execution_count": 3,
   "metadata": {},
   "outputs": [
    {
     "name": "stdout",
     "output_type": "stream",
     "text": [
      "Skipping, found downloaded files in \"./qs-world-university-rankings-2021\" (use force=True to force download)\n"
     ]
    }
   ],
   "source": [
    "import opendatasets as od\n",
    "od.download(dataset_url)"
   ]
  },
  {
   "cell_type": "markdown",
   "metadata": {},
   "source": [
    "The dataset has been downloaded and extracted."
   ]
  },
  {
   "cell_type": "code",
   "execution_count": 4,
   "metadata": {},
   "outputs": [],
   "source": [
    "data_dir = './qs-world-university-rankings-2021'"
   ]
  },
  {
   "cell_type": "code",
   "execution_count": 5,
   "metadata": {},
   "outputs": [
    {
     "data": {
      "text/plain": [
       "['QS World University Rankings 2017.csv',\n",
       " 'QS World University Rankings 2022.csv',\n",
       " 'QS World University Rankings combined.csv',\n",
       " 'QS World University Rankings 2019.csv',\n",
       " 'QS World University Rankings 2020.csv',\n",
       " 'QS World University Rankings 2021.csv',\n",
       " 'QS World University Rankings 2018.csv']"
      ]
     },
     "execution_count": 5,
     "metadata": {},
     "output_type": "execute_result"
    }
   ],
   "source": [
    "import os\n",
    "os.listdir(data_dir)"
   ]
  },
  {
   "cell_type": "markdown",
   "metadata": {},
   "source": [
    "Let us save and upload our work to Jovian before continuing."
   ]
  },
  {
   "cell_type": "code",
   "execution_count": 6,
   "metadata": {},
   "outputs": [],
   "source": [
    "project_name = \"World University Ranking\""
   ]
  },
  {
   "cell_type": "code",
   "execution_count": 7,
   "metadata": {},
   "outputs": [],
   "source": [
    "!pip install jovian --upgrade -q"
   ]
  },
  {
   "cell_type": "code",
   "execution_count": 8,
   "metadata": {},
   "outputs": [],
   "source": [
    "import jovian"
   ]
  },
  {
   "cell_type": "code",
   "execution_count": 9,
   "metadata": {},
   "outputs": [
    {
     "data": {
      "application/javascript": [
       "window.require && require([\"base/js/namespace\"],function(Jupyter){Jupyter.notebook.save_checkpoint()})"
      ],
      "text/plain": [
       "<IPython.core.display.Javascript object>"
      ]
     },
     "metadata": {},
     "output_type": "display_data"
    },
    {
     "name": "stdout",
     "output_type": "stream",
     "text": [
      "[jovian] Updating notebook \"carllam23/world-university-ranking\" on https://jovian.ai\u001b[0m\n",
      "[jovian] Committed successfully! https://jovian.ai/carllam23/world-university-ranking\u001b[0m\n"
     ]
    },
    {
     "data": {
      "text/plain": [
       "'https://jovian.ai/carllam23/world-university-ranking'"
      ]
     },
     "execution_count": 9,
     "metadata": {},
     "output_type": "execute_result"
    }
   ],
   "source": [
    "jovian.commit(project=project_name)"
   ]
  },
  {
   "cell_type": "markdown",
   "metadata": {},
   "source": [
    "## Data Preparation and Cleaning\n",
    "\n"
   ]
  },
  {
   "cell_type": "code",
   "execution_count": 10,
   "metadata": {},
   "outputs": [],
   "source": [
    "import pandas as pd"
   ]
  },
  {
   "cell_type": "code",
   "execution_count": 11,
   "metadata": {},
   "outputs": [],
   "source": [
    "df_raw_uni = pd.read_csv('./qs-world-university-rankings-2021/QS World University Rankings 2021.csv')"
   ]
  },
  {
   "cell_type": "code",
   "execution_count": 12,
   "metadata": {},
   "outputs": [
    {
     "data": {
      "text/html": [
       "<div>\n",
       "<style scoped>\n",
       "    .dataframe tbody tr th:only-of-type {\n",
       "        vertical-align: middle;\n",
       "    }\n",
       "\n",
       "    .dataframe tbody tr th {\n",
       "        vertical-align: top;\n",
       "    }\n",
       "\n",
       "    .dataframe thead th {\n",
       "        text-align: right;\n",
       "    }\n",
       "</style>\n",
       "<table border=\"1\" class=\"dataframe\">\n",
       "  <thead>\n",
       "    <tr style=\"text-align: right;\">\n",
       "      <th></th>\n",
       "      <th>year</th>\n",
       "      <th>rank_display</th>\n",
       "      <th>university</th>\n",
       "      <th>score</th>\n",
       "      <th>link</th>\n",
       "      <th>country</th>\n",
       "      <th>city</th>\n",
       "      <th>region</th>\n",
       "      <th>logo</th>\n",
       "    </tr>\n",
       "  </thead>\n",
       "  <tbody>\n",
       "    <tr>\n",
       "      <th>0</th>\n",
       "      <td>2021</td>\n",
       "      <td>1</td>\n",
       "      <td>Massachusetts Institute of Technology (MIT)</td>\n",
       "      <td>100.0</td>\n",
       "      <td>https://www.topuniversities.com/universities/m...</td>\n",
       "      <td>United States</td>\n",
       "      <td>Cambridge</td>\n",
       "      <td>North America</td>\n",
       "      <td>https://www.topuniversities.com/sites/default/...</td>\n",
       "    </tr>\n",
       "    <tr>\n",
       "      <th>1</th>\n",
       "      <td>2021</td>\n",
       "      <td>2</td>\n",
       "      <td>Stanford University</td>\n",
       "      <td>98.4</td>\n",
       "      <td>https://www.topuniversities.com/universities/s...</td>\n",
       "      <td>United States</td>\n",
       "      <td>Stanford</td>\n",
       "      <td>North America</td>\n",
       "      <td>https://www.topuniversities.com/sites/default/...</td>\n",
       "    </tr>\n",
       "    <tr>\n",
       "      <th>2</th>\n",
       "      <td>2021</td>\n",
       "      <td>3</td>\n",
       "      <td>Harvard University</td>\n",
       "      <td>97.9</td>\n",
       "      <td>https://www.topuniversities.com/universities/h...</td>\n",
       "      <td>United States</td>\n",
       "      <td>Cambridge</td>\n",
       "      <td>North America</td>\n",
       "      <td>https://www.topuniversities.com/sites/default/...</td>\n",
       "    </tr>\n",
       "    <tr>\n",
       "      <th>3</th>\n",
       "      <td>2021</td>\n",
       "      <td>4</td>\n",
       "      <td>California Institute of Technology (Caltech)</td>\n",
       "      <td>97.0</td>\n",
       "      <td>https://www.topuniversities.com/universities/c...</td>\n",
       "      <td>United States</td>\n",
       "      <td>Pasadena</td>\n",
       "      <td>North America</td>\n",
       "      <td>https://www.topuniversities.com/sites/default/...</td>\n",
       "    </tr>\n",
       "    <tr>\n",
       "      <th>4</th>\n",
       "      <td>2021</td>\n",
       "      <td>5</td>\n",
       "      <td>University of Oxford</td>\n",
       "      <td>96.7</td>\n",
       "      <td>https://www.topuniversities.com/universities/u...</td>\n",
       "      <td>United Kingdom</td>\n",
       "      <td>Oxford</td>\n",
       "      <td>Europe</td>\n",
       "      <td>https://www.topuniversities.com/sites/default/...</td>\n",
       "    </tr>\n",
       "    <tr>\n",
       "      <th>...</th>\n",
       "      <td>...</td>\n",
       "      <td>...</td>\n",
       "      <td>...</td>\n",
       "      <td>...</td>\n",
       "      <td>...</td>\n",
       "      <td>...</td>\n",
       "      <td>...</td>\n",
       "      <td>...</td>\n",
       "      <td>...</td>\n",
       "    </tr>\n",
       "    <tr>\n",
       "      <th>1180</th>\n",
       "      <td>2021</td>\n",
       "      <td>NaN</td>\n",
       "      <td>Weizmann Institute of Science</td>\n",
       "      <td>NaN</td>\n",
       "      <td>https://www.topuniversities.com/universities/w...</td>\n",
       "      <td>Israel</td>\n",
       "      <td>Rehovot</td>\n",
       "      <td>Asia</td>\n",
       "      <td>https://www.topuniversities.com/sites/default/...</td>\n",
       "    </tr>\n",
       "    <tr>\n",
       "      <th>1181</th>\n",
       "      <td>2021</td>\n",
       "      <td>1001+</td>\n",
       "      <td>Universitatea de Vest din Timisoara /  West Un...</td>\n",
       "      <td>NaN</td>\n",
       "      <td>https://www.topuniversities.com/universities/u...</td>\n",
       "      <td>Romania</td>\n",
       "      <td>Timișoara</td>\n",
       "      <td>Europe</td>\n",
       "      <td>https://www.topuniversities.com/sites/default/...</td>\n",
       "    </tr>\n",
       "    <tr>\n",
       "      <th>1182</th>\n",
       "      <td>2021</td>\n",
       "      <td>NaN</td>\n",
       "      <td>WHU - Otto Beisheim School of Management</td>\n",
       "      <td>NaN</td>\n",
       "      <td>https://www.topuniversities.com/universities/w...</td>\n",
       "      <td>Germany</td>\n",
       "      <td>Vallendar</td>\n",
       "      <td>Europe</td>\n",
       "      <td>https://www.topuniversities.com/sites/default/...</td>\n",
       "    </tr>\n",
       "    <tr>\n",
       "      <th>1183</th>\n",
       "      <td>2021</td>\n",
       "      <td>1001+</td>\n",
       "      <td>Yarmouk University</td>\n",
       "      <td>NaN</td>\n",
       "      <td>https://www.topuniversities.com/universities/y...</td>\n",
       "      <td>Jordan</td>\n",
       "      <td>Irbid</td>\n",
       "      <td>Asia</td>\n",
       "      <td>https://www.topuniversities.com/sites/default/...</td>\n",
       "    </tr>\n",
       "    <tr>\n",
       "      <th>1184</th>\n",
       "      <td>2021</td>\n",
       "      <td>1001+</td>\n",
       "      <td>Yildiz Technical University</td>\n",
       "      <td>NaN</td>\n",
       "      <td>https://www.topuniversities.com/universities/y...</td>\n",
       "      <td>Turkey</td>\n",
       "      <td>Istanbul</td>\n",
       "      <td>Asia</td>\n",
       "      <td>https://www.topuniversities.com/sites/default/...</td>\n",
       "    </tr>\n",
       "  </tbody>\n",
       "</table>\n",
       "<p>1185 rows × 9 columns</p>\n",
       "</div>"
      ],
      "text/plain": [
       "      year rank_display                                         university  \\\n",
       "0     2021            1       Massachusetts Institute of Technology (MIT)    \n",
       "1     2021            2                                Stanford University   \n",
       "2     2021            3                                 Harvard University   \n",
       "3     2021            4       California Institute of Technology (Caltech)   \n",
       "4     2021            5                               University of Oxford   \n",
       "...    ...          ...                                                ...   \n",
       "1180  2021          NaN                      Weizmann Institute of Science   \n",
       "1181  2021        1001+  Universitatea de Vest din Timisoara /  West Un...   \n",
       "1182  2021          NaN          WHU - Otto Beisheim School of Management    \n",
       "1183  2021        1001+                                 Yarmouk University   \n",
       "1184  2021        1001+                        Yildiz Technical University   \n",
       "\n",
       "      score                                               link  \\\n",
       "0     100.0  https://www.topuniversities.com/universities/m...   \n",
       "1      98.4  https://www.topuniversities.com/universities/s...   \n",
       "2      97.9  https://www.topuniversities.com/universities/h...   \n",
       "3      97.0  https://www.topuniversities.com/universities/c...   \n",
       "4      96.7  https://www.topuniversities.com/universities/u...   \n",
       "...     ...                                                ...   \n",
       "1180    NaN  https://www.topuniversities.com/universities/w...   \n",
       "1181    NaN  https://www.topuniversities.com/universities/u...   \n",
       "1182    NaN  https://www.topuniversities.com/universities/w...   \n",
       "1183    NaN  https://www.topuniversities.com/universities/y...   \n",
       "1184    NaN  https://www.topuniversities.com/universities/y...   \n",
       "\n",
       "             country       city         region  \\\n",
       "0      United States  Cambridge  North America   \n",
       "1      United States   Stanford  North America   \n",
       "2      United States  Cambridge  North America   \n",
       "3      United States   Pasadena  North America   \n",
       "4     United Kingdom     Oxford         Europe   \n",
       "...              ...        ...            ...   \n",
       "1180          Israel    Rehovot           Asia   \n",
       "1181         Romania  Timișoara         Europe   \n",
       "1182         Germany  Vallendar         Europe   \n",
       "1183          Jordan      Irbid           Asia   \n",
       "1184          Turkey   Istanbul           Asia   \n",
       "\n",
       "                                                   logo  \n",
       "0     https://www.topuniversities.com/sites/default/...  \n",
       "1     https://www.topuniversities.com/sites/default/...  \n",
       "2     https://www.topuniversities.com/sites/default/...  \n",
       "3     https://www.topuniversities.com/sites/default/...  \n",
       "4     https://www.topuniversities.com/sites/default/...  \n",
       "...                                                 ...  \n",
       "1180  https://www.topuniversities.com/sites/default/...  \n",
       "1181  https://www.topuniversities.com/sites/default/...  \n",
       "1182  https://www.topuniversities.com/sites/default/...  \n",
       "1183  https://www.topuniversities.com/sites/default/...  \n",
       "1184  https://www.topuniversities.com/sites/default/...  \n",
       "\n",
       "[1185 rows x 9 columns]"
      ]
     },
     "execution_count": 12,
     "metadata": {},
     "output_type": "execute_result"
    }
   ],
   "source": [
    "df_raw_uni"
   ]
  },
  {
   "cell_type": "code",
   "execution_count": 13,
   "metadata": {},
   "outputs": [
    {
     "data": {
      "text/plain": [
       "Index(['year', 'rank_display', 'university', 'score', 'link', 'country',\n",
       "       'city', 'region', 'logo'],\n",
       "      dtype='object')"
      ]
     },
     "execution_count": 13,
     "metadata": {},
     "output_type": "execute_result"
    }
   ],
   "source": [
    "df_raw_uni.columns"
   ]
  },
  {
   "cell_type": "code",
   "execution_count": 14,
   "metadata": {},
   "outputs": [],
   "source": [
    "selected_columns = ['year', 'rank_display', 'university', 'score', 'country','city', 'region']"
   ]
  },
  {
   "cell_type": "code",
   "execution_count": 15,
   "metadata": {},
   "outputs": [],
   "source": [
    "df_uni = df_raw_uni[selected_columns].copy()"
   ]
  },
  {
   "cell_type": "code",
   "execution_count": 16,
   "metadata": {},
   "outputs": [
    {
     "data": {
      "text/html": [
       "<div>\n",
       "<style scoped>\n",
       "    .dataframe tbody tr th:only-of-type {\n",
       "        vertical-align: middle;\n",
       "    }\n",
       "\n",
       "    .dataframe tbody tr th {\n",
       "        vertical-align: top;\n",
       "    }\n",
       "\n",
       "    .dataframe thead th {\n",
       "        text-align: right;\n",
       "    }\n",
       "</style>\n",
       "<table border=\"1\" class=\"dataframe\">\n",
       "  <thead>\n",
       "    <tr style=\"text-align: right;\">\n",
       "      <th></th>\n",
       "      <th>year</th>\n",
       "      <th>rank_display</th>\n",
       "      <th>university</th>\n",
       "      <th>score</th>\n",
       "      <th>country</th>\n",
       "      <th>city</th>\n",
       "      <th>region</th>\n",
       "    </tr>\n",
       "  </thead>\n",
       "  <tbody>\n",
       "    <tr>\n",
       "      <th>0</th>\n",
       "      <td>2021</td>\n",
       "      <td>1</td>\n",
       "      <td>Massachusetts Institute of Technology (MIT)</td>\n",
       "      <td>100.0</td>\n",
       "      <td>United States</td>\n",
       "      <td>Cambridge</td>\n",
       "      <td>North America</td>\n",
       "    </tr>\n",
       "    <tr>\n",
       "      <th>1</th>\n",
       "      <td>2021</td>\n",
       "      <td>2</td>\n",
       "      <td>Stanford University</td>\n",
       "      <td>98.4</td>\n",
       "      <td>United States</td>\n",
       "      <td>Stanford</td>\n",
       "      <td>North America</td>\n",
       "    </tr>\n",
       "    <tr>\n",
       "      <th>2</th>\n",
       "      <td>2021</td>\n",
       "      <td>3</td>\n",
       "      <td>Harvard University</td>\n",
       "      <td>97.9</td>\n",
       "      <td>United States</td>\n",
       "      <td>Cambridge</td>\n",
       "      <td>North America</td>\n",
       "    </tr>\n",
       "    <tr>\n",
       "      <th>3</th>\n",
       "      <td>2021</td>\n",
       "      <td>4</td>\n",
       "      <td>California Institute of Technology (Caltech)</td>\n",
       "      <td>97.0</td>\n",
       "      <td>United States</td>\n",
       "      <td>Pasadena</td>\n",
       "      <td>North America</td>\n",
       "    </tr>\n",
       "    <tr>\n",
       "      <th>4</th>\n",
       "      <td>2021</td>\n",
       "      <td>5</td>\n",
       "      <td>University of Oxford</td>\n",
       "      <td>96.7</td>\n",
       "      <td>United Kingdom</td>\n",
       "      <td>Oxford</td>\n",
       "      <td>Europe</td>\n",
       "    </tr>\n",
       "    <tr>\n",
       "      <th>...</th>\n",
       "      <td>...</td>\n",
       "      <td>...</td>\n",
       "      <td>...</td>\n",
       "      <td>...</td>\n",
       "      <td>...</td>\n",
       "      <td>...</td>\n",
       "      <td>...</td>\n",
       "    </tr>\n",
       "    <tr>\n",
       "      <th>1180</th>\n",
       "      <td>2021</td>\n",
       "      <td>NaN</td>\n",
       "      <td>Weizmann Institute of Science</td>\n",
       "      <td>NaN</td>\n",
       "      <td>Israel</td>\n",
       "      <td>Rehovot</td>\n",
       "      <td>Asia</td>\n",
       "    </tr>\n",
       "    <tr>\n",
       "      <th>1181</th>\n",
       "      <td>2021</td>\n",
       "      <td>1001+</td>\n",
       "      <td>Universitatea de Vest din Timisoara /  West Un...</td>\n",
       "      <td>NaN</td>\n",
       "      <td>Romania</td>\n",
       "      <td>Timișoara</td>\n",
       "      <td>Europe</td>\n",
       "    </tr>\n",
       "    <tr>\n",
       "      <th>1182</th>\n",
       "      <td>2021</td>\n",
       "      <td>NaN</td>\n",
       "      <td>WHU - Otto Beisheim School of Management</td>\n",
       "      <td>NaN</td>\n",
       "      <td>Germany</td>\n",
       "      <td>Vallendar</td>\n",
       "      <td>Europe</td>\n",
       "    </tr>\n",
       "    <tr>\n",
       "      <th>1183</th>\n",
       "      <td>2021</td>\n",
       "      <td>1001+</td>\n",
       "      <td>Yarmouk University</td>\n",
       "      <td>NaN</td>\n",
       "      <td>Jordan</td>\n",
       "      <td>Irbid</td>\n",
       "      <td>Asia</td>\n",
       "    </tr>\n",
       "    <tr>\n",
       "      <th>1184</th>\n",
       "      <td>2021</td>\n",
       "      <td>1001+</td>\n",
       "      <td>Yildiz Technical University</td>\n",
       "      <td>NaN</td>\n",
       "      <td>Turkey</td>\n",
       "      <td>Istanbul</td>\n",
       "      <td>Asia</td>\n",
       "    </tr>\n",
       "  </tbody>\n",
       "</table>\n",
       "<p>1185 rows × 7 columns</p>\n",
       "</div>"
      ],
      "text/plain": [
       "      year rank_display                                         university  \\\n",
       "0     2021            1       Massachusetts Institute of Technology (MIT)    \n",
       "1     2021            2                                Stanford University   \n",
       "2     2021            3                                 Harvard University   \n",
       "3     2021            4       California Institute of Technology (Caltech)   \n",
       "4     2021            5                               University of Oxford   \n",
       "...    ...          ...                                                ...   \n",
       "1180  2021          NaN                      Weizmann Institute of Science   \n",
       "1181  2021        1001+  Universitatea de Vest din Timisoara /  West Un...   \n",
       "1182  2021          NaN          WHU - Otto Beisheim School of Management    \n",
       "1183  2021        1001+                                 Yarmouk University   \n",
       "1184  2021        1001+                        Yildiz Technical University   \n",
       "\n",
       "      score         country       city         region  \n",
       "0     100.0   United States  Cambridge  North America  \n",
       "1      98.4   United States   Stanford  North America  \n",
       "2      97.9   United States  Cambridge  North America  \n",
       "3      97.0   United States   Pasadena  North America  \n",
       "4      96.7  United Kingdom     Oxford         Europe  \n",
       "...     ...             ...        ...            ...  \n",
       "1180    NaN          Israel    Rehovot           Asia  \n",
       "1181    NaN         Romania  Timișoara         Europe  \n",
       "1182    NaN         Germany  Vallendar         Europe  \n",
       "1183    NaN          Jordan      Irbid           Asia  \n",
       "1184    NaN          Turkey   Istanbul           Asia  \n",
       "\n",
       "[1185 rows x 7 columns]"
      ]
     },
     "execution_count": 16,
     "metadata": {},
     "output_type": "execute_result"
    }
   ],
   "source": [
    "df_uni"
   ]
  },
  {
   "cell_type": "code",
   "execution_count": 17,
   "metadata": {},
   "outputs": [
    {
     "name": "stdout",
     "output_type": "stream",
     "text": [
      "<class 'pandas.core.frame.DataFrame'>\n",
      "RangeIndex: 1185 entries, 0 to 1184\n",
      "Data columns (total 7 columns):\n",
      " #   Column        Non-Null Count  Dtype  \n",
      "---  ------        --------------  -----  \n",
      " 0   year          1185 non-null   int64  \n",
      " 1   rank_display  1158 non-null   object \n",
      " 2   university    1185 non-null   object \n",
      " 3   score         501 non-null    float64\n",
      " 4   country       1185 non-null   object \n",
      " 5   city          1145 non-null   object \n",
      " 6   region        1185 non-null   object \n",
      "dtypes: float64(1), int64(1), object(5)\n",
      "memory usage: 64.9+ KB\n"
     ]
    }
   ],
   "source": [
    "df_uni.info()"
   ]
  },
  {
   "cell_type": "code",
   "execution_count": 18,
   "metadata": {},
   "outputs": [
    {
     "data": {
      "text/plain": [
       "year              0\n",
       "rank_display     27\n",
       "university        0\n",
       "score           684\n",
       "country           0\n",
       "city             40\n",
       "region            0\n",
       "dtype: int64"
      ]
     },
     "execution_count": 18,
     "metadata": {},
     "output_type": "execute_result"
    }
   ],
   "source": [
    "df_uni.isna().sum()"
   ]
  },
  {
   "cell_type": "code",
   "execution_count": 19,
   "metadata": {},
   "outputs": [
    {
     "data": {
      "text/html": [
       "<div>\n",
       "<style scoped>\n",
       "    .dataframe tbody tr th:only-of-type {\n",
       "        vertical-align: middle;\n",
       "    }\n",
       "\n",
       "    .dataframe tbody tr th {\n",
       "        vertical-align: top;\n",
       "    }\n",
       "\n",
       "    .dataframe thead th {\n",
       "        text-align: right;\n",
       "    }\n",
       "</style>\n",
       "<table border=\"1\" class=\"dataframe\">\n",
       "  <thead>\n",
       "    <tr style=\"text-align: right;\">\n",
       "      <th></th>\n",
       "      <th>year</th>\n",
       "      <th>rank_display</th>\n",
       "      <th>university</th>\n",
       "      <th>score</th>\n",
       "      <th>country</th>\n",
       "      <th>city</th>\n",
       "      <th>region</th>\n",
       "    </tr>\n",
       "  </thead>\n",
       "  <tbody>\n",
       "    <tr>\n",
       "      <th>51</th>\n",
       "      <td>2021</td>\n",
       "      <td>52</td>\n",
       "      <td>Université PSL</td>\n",
       "      <td>73.3</td>\n",
       "      <td>France</td>\n",
       "      <td>NaN</td>\n",
       "      <td>Europe</td>\n",
       "    </tr>\n",
       "    <tr>\n",
       "      <th>82</th>\n",
       "      <td>2021</td>\n",
       "      <td>83</td>\n",
       "      <td>Sorbonne University</td>\n",
       "      <td>63.3</td>\n",
       "      <td>France</td>\n",
       "      <td>NaN</td>\n",
       "      <td>Europe</td>\n",
       "    </tr>\n",
       "    <tr>\n",
       "      <th>146</th>\n",
       "      <td>2021</td>\n",
       "      <td>147</td>\n",
       "      <td>Aarhus University</td>\n",
       "      <td>51.0</td>\n",
       "      <td>Denmark</td>\n",
       "      <td>NaN</td>\n",
       "      <td>Europe</td>\n",
       "    </tr>\n",
       "    <tr>\n",
       "      <th>208</th>\n",
       "      <td>2021</td>\n",
       "      <td>209</td>\n",
       "      <td>Queen's University Belfast</td>\n",
       "      <td>41.5</td>\n",
       "      <td>United Kingdom</td>\n",
       "      <td>NaN</td>\n",
       "      <td>Europe</td>\n",
       "    </tr>\n",
       "    <tr>\n",
       "      <th>235</th>\n",
       "      <td>2021</td>\n",
       "      <td>236</td>\n",
       "      <td>Kyung Hee University</td>\n",
       "      <td>38.8</td>\n",
       "      <td>South Korea</td>\n",
       "      <td>NaN</td>\n",
       "      <td>Asia</td>\n",
       "    </tr>\n",
       "    <tr>\n",
       "      <th>305</th>\n",
       "      <td>2021</td>\n",
       "      <td>305</td>\n",
       "      <td>Université Paris-Saclay</td>\n",
       "      <td>34.0</td>\n",
       "      <td>France</td>\n",
       "      <td>NaN</td>\n",
       "      <td>Europe</td>\n",
       "    </tr>\n",
       "    <tr>\n",
       "      <th>324</th>\n",
       "      <td>2021</td>\n",
       "      <td>323</td>\n",
       "      <td>Southern University of Science and Technology</td>\n",
       "      <td>32.1</td>\n",
       "      <td>China (Mainland)</td>\n",
       "      <td>NaN</td>\n",
       "      <td>Asia</td>\n",
       "    </tr>\n",
       "    <tr>\n",
       "      <th>366</th>\n",
       "      <td>2021</td>\n",
       "      <td>367</td>\n",
       "      <td>University of Macau</td>\n",
       "      <td>29.9</td>\n",
       "      <td>Macau SAR</td>\n",
       "      <td>NaN</td>\n",
       "      <td>Asia</td>\n",
       "    </tr>\n",
       "    <tr>\n",
       "      <th>367</th>\n",
       "      <td>2021</td>\n",
       "      <td>368</td>\n",
       "      <td>Brunel University London</td>\n",
       "      <td>29.7</td>\n",
       "      <td>United Kingdom</td>\n",
       "      <td>NaN</td>\n",
       "      <td>Europe</td>\n",
       "    </tr>\n",
       "    <tr>\n",
       "      <th>383</th>\n",
       "      <td>2021</td>\n",
       "      <td>383</td>\n",
       "      <td>Oxford Brookes University</td>\n",
       "      <td>28.7</td>\n",
       "      <td>United Kingdom</td>\n",
       "      <td>NaN</td>\n",
       "      <td>Europe</td>\n",
       "    </tr>\n",
       "    <tr>\n",
       "      <th>390</th>\n",
       "      <td>2021</td>\n",
       "      <td>391</td>\n",
       "      <td>UCSI University</td>\n",
       "      <td>28.5</td>\n",
       "      <td>Malaysia</td>\n",
       "      <td>NaN</td>\n",
       "      <td>Asia</td>\n",
       "    </tr>\n",
       "    <tr>\n",
       "      <th>401</th>\n",
       "      <td>2021</td>\n",
       "      <td>401</td>\n",
       "      <td>National Research Tomsk Polytechnic University</td>\n",
       "      <td>28.0</td>\n",
       "      <td>Russia</td>\n",
       "      <td>NaN</td>\n",
       "      <td>Europe</td>\n",
       "    </tr>\n",
       "    <tr>\n",
       "      <th>548</th>\n",
       "      <td>2021</td>\n",
       "      <td>541-550</td>\n",
       "      <td>University Paris 2 Panthéon-Assas</td>\n",
       "      <td>NaN</td>\n",
       "      <td>France</td>\n",
       "      <td>NaN</td>\n",
       "      <td>Europe</td>\n",
       "    </tr>\n",
       "    <tr>\n",
       "      <th>595</th>\n",
       "      <td>2021</td>\n",
       "      <td>591-600</td>\n",
       "      <td>Palacký University Olomouc</td>\n",
       "      <td>NaN</td>\n",
       "      <td>Czech Republic</td>\n",
       "      <td>NaN</td>\n",
       "      <td>Europe</td>\n",
       "    </tr>\n",
       "    <tr>\n",
       "      <th>603</th>\n",
       "      <td>2021</td>\n",
       "      <td>601-650</td>\n",
       "      <td>Bangor University</td>\n",
       "      <td>NaN</td>\n",
       "      <td>United Kingdom</td>\n",
       "      <td>NaN</td>\n",
       "      <td>Europe</td>\n",
       "    </tr>\n",
       "    <tr>\n",
       "      <th>616</th>\n",
       "      <td>2021</td>\n",
       "      <td>601-650</td>\n",
       "      <td>Ivane Javakhishvili Tbilisi State University</td>\n",
       "      <td>NaN</td>\n",
       "      <td>Georgia</td>\n",
       "      <td>NaN</td>\n",
       "      <td>Asia</td>\n",
       "    </tr>\n",
       "    <tr>\n",
       "      <th>641</th>\n",
       "      <td>2021</td>\n",
       "      <td>601-650</td>\n",
       "      <td>Université Côte d'Azur</td>\n",
       "      <td>NaN</td>\n",
       "      <td>France</td>\n",
       "      <td>NaN</td>\n",
       "      <td>Europe</td>\n",
       "    </tr>\n",
       "    <tr>\n",
       "      <th>652</th>\n",
       "      <td>2021</td>\n",
       "      <td>601-650</td>\n",
       "      <td>University of Sharjah</td>\n",
       "      <td>NaN</td>\n",
       "      <td>United Arab Emirates</td>\n",
       "      <td>NaN</td>\n",
       "      <td>Asia</td>\n",
       "    </tr>\n",
       "    <tr>\n",
       "      <th>659</th>\n",
       "      <td>2021</td>\n",
       "      <td>651-700</td>\n",
       "      <td>Central South University</td>\n",
       "      <td>NaN</td>\n",
       "      <td>China (Mainland)</td>\n",
       "      <td>NaN</td>\n",
       "      <td>Asia</td>\n",
       "    </tr>\n",
       "    <tr>\n",
       "      <th>673</th>\n",
       "      <td>2021</td>\n",
       "      <td>651-700</td>\n",
       "      <td>Pavol Jozef Šafárik University in Košice</td>\n",
       "      <td>NaN</td>\n",
       "      <td>Slovakia</td>\n",
       "      <td>NaN</td>\n",
       "      <td>Europe</td>\n",
       "    </tr>\n",
       "    <tr>\n",
       "      <th>718</th>\n",
       "      <td>2021</td>\n",
       "      <td>701-750</td>\n",
       "      <td>Macau University of Science and Technology</td>\n",
       "      <td>NaN</td>\n",
       "      <td>Macau SAR</td>\n",
       "      <td>NaN</td>\n",
       "      <td>Asia</td>\n",
       "    </tr>\n",
       "    <tr>\n",
       "      <th>746</th>\n",
       "      <td>2021</td>\n",
       "      <td>701-750</td>\n",
       "      <td>University of Greenwich</td>\n",
       "      <td>NaN</td>\n",
       "      <td>United Kingdom</td>\n",
       "      <td>NaN</td>\n",
       "      <td>Europe</td>\n",
       "    </tr>\n",
       "    <tr>\n",
       "      <th>764</th>\n",
       "      <td>2021</td>\n",
       "      <td>751-800</td>\n",
       "      <td>Jamia Millia Islamia</td>\n",
       "      <td>NaN</td>\n",
       "      <td>India</td>\n",
       "      <td>NaN</td>\n",
       "      <td>Asia</td>\n",
       "    </tr>\n",
       "    <tr>\n",
       "      <th>776</th>\n",
       "      <td>2021</td>\n",
       "      <td>751-800</td>\n",
       "      <td>Prince Mohammad Bin Fahd university</td>\n",
       "      <td>NaN</td>\n",
       "      <td>Saudi Arabia</td>\n",
       "      <td>NaN</td>\n",
       "      <td>Asia</td>\n",
       "    </tr>\n",
       "    <tr>\n",
       "      <th>794</th>\n",
       "      <td>2021</td>\n",
       "      <td>751-800</td>\n",
       "      <td>Université de Lille</td>\n",
       "      <td>NaN</td>\n",
       "      <td>France</td>\n",
       "      <td>NaN</td>\n",
       "      <td>Europe</td>\n",
       "    </tr>\n",
       "    <tr>\n",
       "      <th>830</th>\n",
       "      <td>2021</td>\n",
       "      <td>801-1000</td>\n",
       "      <td>Czech University of Life Sciences in Prague</td>\n",
       "      <td>NaN</td>\n",
       "      <td>Czech Republic</td>\n",
       "      <td>NaN</td>\n",
       "      <td>Europe</td>\n",
       "    </tr>\n",
       "    <tr>\n",
       "      <th>834</th>\n",
       "      <td>2021</td>\n",
       "      <td>801-1000</td>\n",
       "      <td>Escuela Politécnica Nacional</td>\n",
       "      <td>NaN</td>\n",
       "      <td>Ecuador</td>\n",
       "      <td>NaN</td>\n",
       "      <td>Latin America</td>\n",
       "    </tr>\n",
       "    <tr>\n",
       "      <th>838</th>\n",
       "      <td>2021</td>\n",
       "      <td>801-1000</td>\n",
       "      <td>German Jordanian University</td>\n",
       "      <td>NaN</td>\n",
       "      <td>Jordan</td>\n",
       "      <td>NaN</td>\n",
       "      <td>Asia</td>\n",
       "    </tr>\n",
       "    <tr>\n",
       "      <th>865</th>\n",
       "      <td>2021</td>\n",
       "      <td>801-1000</td>\n",
       "      <td>Lviv Polytechnic National University</td>\n",
       "      <td>NaN</td>\n",
       "      <td>Ukraine</td>\n",
       "      <td>NaN</td>\n",
       "      <td>Europe</td>\n",
       "    </tr>\n",
       "    <tr>\n",
       "      <th>874</th>\n",
       "      <td>2021</td>\n",
       "      <td>801-1000</td>\n",
       "      <td>Poznań University of Technology</td>\n",
       "      <td>NaN</td>\n",
       "      <td>Poland</td>\n",
       "      <td>NaN</td>\n",
       "      <td>Europe</td>\n",
       "    </tr>\n",
       "    <tr>\n",
       "      <th>876</th>\n",
       "      <td>2021</td>\n",
       "      <td>801-1000</td>\n",
       "      <td>Princess Nourah bint Abdulrahman University</td>\n",
       "      <td>NaN</td>\n",
       "      <td>Saudi Arabia</td>\n",
       "      <td>NaN</td>\n",
       "      <td>Asia</td>\n",
       "    </tr>\n",
       "    <tr>\n",
       "      <th>886</th>\n",
       "      <td>2021</td>\n",
       "      <td>801-1000</td>\n",
       "      <td>Sheffield Hallam University</td>\n",
       "      <td>NaN</td>\n",
       "      <td>United Kingdom</td>\n",
       "      <td>NaN</td>\n",
       "      <td>Europe</td>\n",
       "    </tr>\n",
       "    <tr>\n",
       "      <th>958</th>\n",
       "      <td>2021</td>\n",
       "      <td>801-1000</td>\n",
       "      <td>University of Brighton</td>\n",
       "      <td>NaN</td>\n",
       "      <td>United Kingdom</td>\n",
       "      <td>NaN</td>\n",
       "      <td>Europe</td>\n",
       "    </tr>\n",
       "    <tr>\n",
       "      <th>982</th>\n",
       "      <td>2021</td>\n",
       "      <td>801-1000</td>\n",
       "      <td>University of Rijeka</td>\n",
       "      <td>NaN</td>\n",
       "      <td>Croatia</td>\n",
       "      <td>NaN</td>\n",
       "      <td>Europe</td>\n",
       "    </tr>\n",
       "    <tr>\n",
       "      <th>1058</th>\n",
       "      <td>2021</td>\n",
       "      <td>1001+</td>\n",
       "      <td>National University of Kyiv-Mohyla Academy (Na...</td>\n",
       "      <td>NaN</td>\n",
       "      <td>Ukraine</td>\n",
       "      <td>NaN</td>\n",
       "      <td>Europe</td>\n",
       "    </tr>\n",
       "    <tr>\n",
       "      <th>1074</th>\n",
       "      <td>2021</td>\n",
       "      <td>NaN</td>\n",
       "      <td>Stockholm School of Economics</td>\n",
       "      <td>NaN</td>\n",
       "      <td>Sweden</td>\n",
       "      <td>NaN</td>\n",
       "      <td>Europe</td>\n",
       "    </tr>\n",
       "    <tr>\n",
       "      <th>1077</th>\n",
       "      <td>2021</td>\n",
       "      <td>1001+</td>\n",
       "      <td>Technical University of Cluj-Napoca</td>\n",
       "      <td>NaN</td>\n",
       "      <td>Romania</td>\n",
       "      <td>NaN</td>\n",
       "      <td>Europe</td>\n",
       "    </tr>\n",
       "    <tr>\n",
       "      <th>1087</th>\n",
       "      <td>2021</td>\n",
       "      <td>1001+</td>\n",
       "      <td>Universidad Autónoma de Chile</td>\n",
       "      <td>NaN</td>\n",
       "      <td>Chile</td>\n",
       "      <td>NaN</td>\n",
       "      <td>Latin America</td>\n",
       "    </tr>\n",
       "    <tr>\n",
       "      <th>1129</th>\n",
       "      <td>2021</td>\n",
       "      <td>1001+</td>\n",
       "      <td>Universidade de Vigo</td>\n",
       "      <td>NaN</td>\n",
       "      <td>Spain</td>\n",
       "      <td>NaN</td>\n",
       "      <td>Europe</td>\n",
       "    </tr>\n",
       "    <tr>\n",
       "      <th>1164</th>\n",
       "      <td>2021</td>\n",
       "      <td>1001+</td>\n",
       "      <td>University of Niš</td>\n",
       "      <td>NaN</td>\n",
       "      <td>Serbia</td>\n",
       "      <td>NaN</td>\n",
       "      <td>Europe</td>\n",
       "    </tr>\n",
       "  </tbody>\n",
       "</table>\n",
       "</div>"
      ],
      "text/plain": [
       "      year rank_display                                         university  \\\n",
       "51    2021           52                                     Université PSL   \n",
       "82    2021           83                                Sorbonne University   \n",
       "146   2021          147                                  Aarhus University   \n",
       "208   2021          209                         Queen's University Belfast   \n",
       "235   2021          236                               Kyung Hee University   \n",
       "305   2021          305                            Université Paris-Saclay   \n",
       "324   2021          323      Southern University of Science and Technology   \n",
       "366   2021          367                                University of Macau   \n",
       "367   2021          368                           Brunel University London   \n",
       "383   2021          383                          Oxford Brookes University   \n",
       "390   2021          391                                    UCSI University   \n",
       "401   2021          401     National Research Tomsk Polytechnic University   \n",
       "548   2021      541-550                  University Paris 2 Panthéon-Assas   \n",
       "595   2021      591-600                         Palacký University Olomouc   \n",
       "603   2021      601-650                                  Bangor University   \n",
       "616   2021      601-650       Ivane Javakhishvili Tbilisi State University   \n",
       "641   2021      601-650                             Université Côte d'Azur   \n",
       "652   2021      601-650                              University of Sharjah   \n",
       "659   2021      651-700                           Central South University   \n",
       "673   2021      651-700           Pavol Jozef Šafárik University in Košice   \n",
       "718   2021      701-750         Macau University of Science and Technology   \n",
       "746   2021      701-750                            University of Greenwich   \n",
       "764   2021      751-800                               Jamia Millia Islamia   \n",
       "776   2021      751-800                Prince Mohammad Bin Fahd university   \n",
       "794   2021      751-800                                Université de Lille   \n",
       "830   2021     801-1000        Czech University of Life Sciences in Prague   \n",
       "834   2021     801-1000                       Escuela Politécnica Nacional   \n",
       "838   2021     801-1000                        German Jordanian University   \n",
       "865   2021     801-1000               Lviv Polytechnic National University   \n",
       "874   2021     801-1000                    Poznań University of Technology   \n",
       "876   2021     801-1000        Princess Nourah bint Abdulrahman University   \n",
       "886   2021     801-1000                        Sheffield Hallam University   \n",
       "958   2021     801-1000                             University of Brighton   \n",
       "982   2021     801-1000                               University of Rijeka   \n",
       "1058  2021        1001+  National University of Kyiv-Mohyla Academy (Na...   \n",
       "1074  2021          NaN                      Stockholm School of Economics   \n",
       "1077  2021        1001+                Technical University of Cluj-Napoca   \n",
       "1087  2021        1001+                      Universidad Autónoma de Chile   \n",
       "1129  2021        1001+                               Universidade de Vigo   \n",
       "1164  2021        1001+                                  University of Niš   \n",
       "\n",
       "      score               country city         region  \n",
       "51     73.3                France  NaN         Europe  \n",
       "82     63.3                France  NaN         Europe  \n",
       "146    51.0               Denmark  NaN         Europe  \n",
       "208    41.5        United Kingdom  NaN         Europe  \n",
       "235    38.8           South Korea  NaN           Asia  \n",
       "305    34.0                France  NaN         Europe  \n",
       "324    32.1      China (Mainland)  NaN           Asia  \n",
       "366    29.9             Macau SAR  NaN           Asia  \n",
       "367    29.7        United Kingdom  NaN         Europe  \n",
       "383    28.7        United Kingdom  NaN         Europe  \n",
       "390    28.5              Malaysia  NaN           Asia  \n",
       "401    28.0                Russia  NaN         Europe  \n",
       "548     NaN                France  NaN         Europe  \n",
       "595     NaN        Czech Republic  NaN         Europe  \n",
       "603     NaN        United Kingdom  NaN         Europe  \n",
       "616     NaN               Georgia  NaN           Asia  \n",
       "641     NaN                France  NaN         Europe  \n",
       "652     NaN  United Arab Emirates  NaN           Asia  \n",
       "659     NaN      China (Mainland)  NaN           Asia  \n",
       "673     NaN              Slovakia  NaN         Europe  \n",
       "718     NaN             Macau SAR  NaN           Asia  \n",
       "746     NaN        United Kingdom  NaN         Europe  \n",
       "764     NaN                 India  NaN           Asia  \n",
       "776     NaN          Saudi Arabia  NaN           Asia  \n",
       "794     NaN                France  NaN         Europe  \n",
       "830     NaN        Czech Republic  NaN         Europe  \n",
       "834     NaN               Ecuador  NaN  Latin America  \n",
       "838     NaN                Jordan  NaN           Asia  \n",
       "865     NaN               Ukraine  NaN         Europe  \n",
       "874     NaN                Poland  NaN         Europe  \n",
       "876     NaN          Saudi Arabia  NaN           Asia  \n",
       "886     NaN        United Kingdom  NaN         Europe  \n",
       "958     NaN        United Kingdom  NaN         Europe  \n",
       "982     NaN               Croatia  NaN         Europe  \n",
       "1058    NaN               Ukraine  NaN         Europe  \n",
       "1074    NaN                Sweden  NaN         Europe  \n",
       "1077    NaN               Romania  NaN         Europe  \n",
       "1087    NaN                 Chile  NaN  Latin America  \n",
       "1129    NaN                 Spain  NaN         Europe  \n",
       "1164    NaN                Serbia  NaN         Europe  "
      ]
     },
     "execution_count": 19,
     "metadata": {},
     "output_type": "execute_result"
    }
   ],
   "source": [
    "df_uni[df_uni['city'].isna()]"
   ]
  },
  {
   "cell_type": "code",
   "execution_count": 20,
   "metadata": {},
   "outputs": [
    {
     "data": {
      "text/html": [
       "<div>\n",
       "<style scoped>\n",
       "    .dataframe tbody tr th:only-of-type {\n",
       "        vertical-align: middle;\n",
       "    }\n",
       "\n",
       "    .dataframe tbody tr th {\n",
       "        vertical-align: top;\n",
       "    }\n",
       "\n",
       "    .dataframe thead th {\n",
       "        text-align: right;\n",
       "    }\n",
       "</style>\n",
       "<table border=\"1\" class=\"dataframe\">\n",
       "  <thead>\n",
       "    <tr style=\"text-align: right;\">\n",
       "      <th></th>\n",
       "      <th>year</th>\n",
       "      <th>university</th>\n",
       "      <th>score</th>\n",
       "      <th>country</th>\n",
       "      <th>city</th>\n",
       "      <th>region</th>\n",
       "    </tr>\n",
       "    <tr>\n",
       "      <th>rank_display</th>\n",
       "      <th></th>\n",
       "      <th></th>\n",
       "      <th></th>\n",
       "      <th></th>\n",
       "      <th></th>\n",
       "      <th></th>\n",
       "    </tr>\n",
       "  </thead>\n",
       "  <tbody>\n",
       "    <tr>\n",
       "      <th>1</th>\n",
       "      <td>2021</td>\n",
       "      <td>Massachusetts Institute of Technology (MIT)</td>\n",
       "      <td>100.0</td>\n",
       "      <td>United States</td>\n",
       "      <td>Cambridge</td>\n",
       "      <td>North America</td>\n",
       "    </tr>\n",
       "    <tr>\n",
       "      <th>2</th>\n",
       "      <td>2021</td>\n",
       "      <td>Stanford University</td>\n",
       "      <td>98.4</td>\n",
       "      <td>United States</td>\n",
       "      <td>Stanford</td>\n",
       "      <td>North America</td>\n",
       "    </tr>\n",
       "    <tr>\n",
       "      <th>3</th>\n",
       "      <td>2021</td>\n",
       "      <td>Harvard University</td>\n",
       "      <td>97.9</td>\n",
       "      <td>United States</td>\n",
       "      <td>Cambridge</td>\n",
       "      <td>North America</td>\n",
       "    </tr>\n",
       "    <tr>\n",
       "      <th>4</th>\n",
       "      <td>2021</td>\n",
       "      <td>California Institute of Technology (Caltech)</td>\n",
       "      <td>97.0</td>\n",
       "      <td>United States</td>\n",
       "      <td>Pasadena</td>\n",
       "      <td>North America</td>\n",
       "    </tr>\n",
       "    <tr>\n",
       "      <th>5</th>\n",
       "      <td>2021</td>\n",
       "      <td>University of Oxford</td>\n",
       "      <td>96.7</td>\n",
       "      <td>United Kingdom</td>\n",
       "      <td>Oxford</td>\n",
       "      <td>Europe</td>\n",
       "    </tr>\n",
       "    <tr>\n",
       "      <th>...</th>\n",
       "      <td>...</td>\n",
       "      <td>...</td>\n",
       "      <td>...</td>\n",
       "      <td>...</td>\n",
       "      <td>...</td>\n",
       "      <td>...</td>\n",
       "    </tr>\n",
       "    <tr>\n",
       "      <th>NaN</th>\n",
       "      <td>2021</td>\n",
       "      <td>Weizmann Institute of Science</td>\n",
       "      <td>NaN</td>\n",
       "      <td>Israel</td>\n",
       "      <td>Rehovot</td>\n",
       "      <td>Asia</td>\n",
       "    </tr>\n",
       "    <tr>\n",
       "      <th>1001+</th>\n",
       "      <td>2021</td>\n",
       "      <td>Universitatea de Vest din Timisoara /  West Un...</td>\n",
       "      <td>NaN</td>\n",
       "      <td>Romania</td>\n",
       "      <td>Timișoara</td>\n",
       "      <td>Europe</td>\n",
       "    </tr>\n",
       "    <tr>\n",
       "      <th>NaN</th>\n",
       "      <td>2021</td>\n",
       "      <td>WHU - Otto Beisheim School of Management</td>\n",
       "      <td>NaN</td>\n",
       "      <td>Germany</td>\n",
       "      <td>Vallendar</td>\n",
       "      <td>Europe</td>\n",
       "    </tr>\n",
       "    <tr>\n",
       "      <th>1001+</th>\n",
       "      <td>2021</td>\n",
       "      <td>Yarmouk University</td>\n",
       "      <td>NaN</td>\n",
       "      <td>Jordan</td>\n",
       "      <td>Irbid</td>\n",
       "      <td>Asia</td>\n",
       "    </tr>\n",
       "    <tr>\n",
       "      <th>1001+</th>\n",
       "      <td>2021</td>\n",
       "      <td>Yildiz Technical University</td>\n",
       "      <td>NaN</td>\n",
       "      <td>Turkey</td>\n",
       "      <td>Istanbul</td>\n",
       "      <td>Asia</td>\n",
       "    </tr>\n",
       "  </tbody>\n",
       "</table>\n",
       "<p>1185 rows × 6 columns</p>\n",
       "</div>"
      ],
      "text/plain": [
       "              year                                         university  score  \\\n",
       "rank_display                                                                   \n",
       "1             2021       Massachusetts Institute of Technology (MIT)   100.0   \n",
       "2             2021                                Stanford University   98.4   \n",
       "3             2021                                 Harvard University   97.9   \n",
       "4             2021       California Institute of Technology (Caltech)   97.0   \n",
       "5             2021                               University of Oxford   96.7   \n",
       "...            ...                                                ...    ...   \n",
       "NaN           2021                      Weizmann Institute of Science    NaN   \n",
       "1001+         2021  Universitatea de Vest din Timisoara /  West Un...    NaN   \n",
       "NaN           2021          WHU - Otto Beisheim School of Management     NaN   \n",
       "1001+         2021                                 Yarmouk University    NaN   \n",
       "1001+         2021                        Yildiz Technical University    NaN   \n",
       "\n",
       "                     country       city         region  \n",
       "rank_display                                            \n",
       "1              United States  Cambridge  North America  \n",
       "2              United States   Stanford  North America  \n",
       "3              United States  Cambridge  North America  \n",
       "4              United States   Pasadena  North America  \n",
       "5             United Kingdom     Oxford         Europe  \n",
       "...                      ...        ...            ...  \n",
       "NaN                   Israel    Rehovot           Asia  \n",
       "1001+                Romania  Timișoara         Europe  \n",
       "NaN                  Germany  Vallendar         Europe  \n",
       "1001+                 Jordan      Irbid           Asia  \n",
       "1001+                 Turkey   Istanbul           Asia  \n",
       "\n",
       "[1185 rows x 6 columns]"
      ]
     },
     "execution_count": 20,
     "metadata": {},
     "output_type": "execute_result"
    }
   ],
   "source": [
    "df_uni.set_index('rank_display')"
   ]
  },
  {
   "cell_type": "code",
   "execution_count": 21,
   "metadata": {},
   "outputs": [],
   "source": [
    "import jovian"
   ]
  },
  {
   "cell_type": "code",
   "execution_count": 22,
   "metadata": {},
   "outputs": [
    {
     "data": {
      "application/javascript": [
       "window.require && require([\"base/js/namespace\"],function(Jupyter){Jupyter.notebook.save_checkpoint()})"
      ],
      "text/plain": [
       "<IPython.core.display.Javascript object>"
      ]
     },
     "metadata": {},
     "output_type": "display_data"
    },
    {
     "name": "stdout",
     "output_type": "stream",
     "text": [
      "[jovian] Updating notebook \"carllam23/world-university-ranking\" on https://jovian.ai\u001b[0m\n",
      "[jovian] Committed successfully! https://jovian.ai/carllam23/world-university-ranking\u001b[0m\n"
     ]
    },
    {
     "data": {
      "text/plain": [
       "'https://jovian.ai/carllam23/world-university-ranking'"
      ]
     },
     "execution_count": 22,
     "metadata": {},
     "output_type": "execute_result"
    }
   ],
   "source": [
    "jovian.commit()"
   ]
  },
  {
   "cell_type": "markdown",
   "metadata": {},
   "source": [
    "## Exploratory Analysis and Visualization\n",
    "\n"
   ]
  },
  {
   "cell_type": "markdown",
   "metadata": {},
   "source": [
    "Let's begin by importing`matplotlib.pyplot` and `seaborn`."
   ]
  },
  {
   "cell_type": "code",
   "execution_count": 23,
   "metadata": {},
   "outputs": [],
   "source": [
    "import seaborn as sns\n",
    "import matplotlib\n",
    "import matplotlib.pyplot as plt\n",
    "%matplotlib inline\n",
    "\n",
    "sns.set_style('darkgrid')\n",
    "matplotlib.rcParams['font.size'] = 14\n",
    "matplotlib.rcParams['figure.figsize'] = (9, 5)\n",
    "matplotlib.rcParams['figure.facecolor'] = '#00000000'"
   ]
  },
  {
   "cell_type": "markdown",
   "metadata": {},
   "source": [
    "# Country with most top universities"
   ]
  },
  {
   "cell_type": "code",
   "execution_count": 24,
   "metadata": {},
   "outputs": [
    {
     "data": {
      "text/plain": [
       "93"
      ]
     },
     "execution_count": 24,
     "metadata": {},
     "output_type": "execute_result"
    }
   ],
   "source": [
    "df_uni.country.nunique()"
   ]
  },
  {
   "cell_type": "code",
   "execution_count": 25,
   "metadata": {},
   "outputs": [
    {
     "data": {
      "text/plain": [
       "United States       160\n",
       "United Kingdom       90\n",
       "China (Mainland)     51\n",
       "Germany              47\n",
       "Japan                45\n",
       "France               42\n",
       "Italy                40\n",
       "Australia            36\n",
       "Russia               32\n",
       "South Korea          30\n",
       "Name: country, dtype: int64"
      ]
     },
     "execution_count": 25,
     "metadata": {},
     "output_type": "execute_result"
    }
   ],
   "source": [
    "df_country = df_uni.country.value_counts().head(10)\n",
    "df_country"
   ]
  },
  {
   "cell_type": "code",
   "execution_count": 26,
   "metadata": {},
   "outputs": [
    {
     "data": {
      "image/png": "[encoded data removed]",
      "text/plain": [
       "<Figure size 1440x576 with 1 Axes>"
      ]
     },
     "metadata": {
      "needs_background": "light"
     },
     "output_type": "display_data"
    }
   ],
   "source": [
    "plt.figure(figsize=(20,8))\n",
    "plt.xlabel(\"Country\")\n",
    "plt.ylabel(\"Count of Universities\")\n",
    "plt.title('Top Country')\n",
    "plt.xticks(rotation=45)\n",
    "sns.barplot(x=df_country.index,y= df_country);"
   ]
  },
  {
   "cell_type": "markdown",
   "metadata": {},
   "source": [
    "# Region with most top universities"
   ]
  },
  {
   "cell_type": "code",
   "execution_count": 27,
   "metadata": {},
   "outputs": [
    {
     "data": {
      "text/plain": [
       "6"
      ]
     },
     "execution_count": 27,
     "metadata": {},
     "output_type": "execute_result"
    }
   ],
   "source": [
    "df_uni.region.nunique()"
   ]
  },
  {
   "cell_type": "code",
   "execution_count": 28,
   "metadata": {},
   "outputs": [
    {
     "data": {
      "text/plain": [
       "Europe           454\n",
       "Asia             347\n",
       "North America    186\n",
       "Latin America    132\n",
       "Oceania           44\n",
       "Africa            22\n",
       "Name: region, dtype: int64"
      ]
     },
     "execution_count": 28,
     "metadata": {},
     "output_type": "execute_result"
    }
   ],
   "source": [
    "df_region = df_uni.region.value_counts()\n",
    "df_region"
   ]
  },
  {
   "cell_type": "code",
   "execution_count": 29,
   "metadata": {},
   "outputs": [
    {
     "data": {
      "image/png": "[encoded data removed]",
      "text/plain": [
       "<Figure size 1440x576 with 1 Axes>"
      ]
     },
     "metadata": {
      "needs_background": "light"
     },
     "output_type": "display_data"
    }
   ],
   "source": [
    "plt.figure(figsize=(20,8))\n",
    "plt.xlabel(\"Region\")\n",
    "plt.ylabel(\"Count of Universities\")\n",
    "plt.title('Top Region')\n",
    "sns.barplot(x=df_region.index,y= df_region);"
   ]
  },
  {
   "cell_type": "markdown",
   "metadata": {},
   "source": [
    "# City with most top universities"
   ]
  },
  {
   "cell_type": "code",
   "execution_count": 30,
   "metadata": {},
   "outputs": [
    {
     "data": {
      "text/plain": [
       "765"
      ]
     },
     "execution_count": 30,
     "metadata": {},
     "output_type": "execute_result"
    }
   ],
   "source": [
    "df_uni.city.nunique()"
   ]
  },
  {
   "cell_type": "code",
   "execution_count": 31,
   "metadata": {},
   "outputs": [
    {
     "data": {
      "text/plain": [
       "London          19\n",
       "Seoul           14\n",
       "Beijing         11\n",
       "Tokyo           11\n",
       "Moscow          10\n",
       "Buenos Aires     9\n",
       "Paris            8\n",
       "Santiago         8\n",
       "Bogotá           8\n",
       "Shanghai         7\n",
       "Name: city, dtype: int64"
      ]
     },
     "execution_count": 31,
     "metadata": {},
     "output_type": "execute_result"
    }
   ],
   "source": [
    "df_city = df_uni.city.value_counts().head(10)\n",
    "df_city"
   ]
  },
  {
   "cell_type": "code",
   "execution_count": 32,
   "metadata": {},
   "outputs": [
    {
     "data": {
      "image/png": "[encoded data removed]",
      "text/plain": [
       "<Figure size 1440x576 with 1 Axes>"
      ]
     },
     "metadata": {
      "needs_background": "light"
     },
     "output_type": "display_data"
    }
   ],
   "source": [
    "plt.figure(figsize=(20,8))\n",
    "plt.xlabel(\"City\")\n",
    "plt.ylabel(\"Count of Universities\")\n",
    "plt.title('Top City')\n",
    "sns.barplot(x=df_city.index,y= df_city);"
   ]
  },
  {
   "cell_type": "markdown",
   "metadata": {},
   "source": [
    "# Relationship between ranking and score"
   ]
  },
  {
   "cell_type": "code",
   "execution_count": 33,
   "metadata": {},
   "outputs": [
    {
     "data": {
      "text/plain": [
       "Text(0, 0.5, 'Score')"
      ]
     },
     "execution_count": 33,
     "metadata": {},
     "output_type": "execute_result"
    },
    {
     "data": {
      "image/png": "[encoded data removed]",
      "text/plain": [
       "<Figure size 1440x576 with 1 Axes>"
      ]
     },
     "metadata": {
      "needs_background": "light"
     },
     "output_type": "display_data"
    }
   ],
   "source": [
    "ax = df_uni.plot.line(x='rank_display',y='score',figsize=(20,8))\n",
    "ax.set_title('Relationship between Ranking and Score',fontsize = 20)\n",
    "ax.set_xlabel('Ranking', fontsize = 18)\n",
    "ax.set_ylabel('Score', fontsize = 18)"
   ]
  },
  {
   "cell_type": "markdown",
   "metadata": {},
   "source": [
    "# Top 10 Universites in United States"
   ]
  },
  {
   "cell_type": "code",
   "execution_count": 34,
   "metadata": {},
   "outputs": [],
   "source": [
    "df_us_uni = df_uni[df_uni['country'] == 'United States'].head(10)"
   ]
  },
  {
   "cell_type": "code",
   "execution_count": 35,
   "metadata": {},
   "outputs": [
    {
     "data": {
      "text/html": [
       "<div>\n",
       "<style scoped>\n",
       "    .dataframe tbody tr th:only-of-type {\n",
       "        vertical-align: middle;\n",
       "    }\n",
       "\n",
       "    .dataframe tbody tr th {\n",
       "        vertical-align: top;\n",
       "    }\n",
       "\n",
       "    .dataframe thead th {\n",
       "        text-align: right;\n",
       "    }\n",
       "</style>\n",
       "<table border=\"1\" class=\"dataframe\">\n",
       "  <thead>\n",
       "    <tr style=\"text-align: right;\">\n",
       "      <th></th>\n",
       "      <th>year</th>\n",
       "      <th>rank_display</th>\n",
       "      <th>university</th>\n",
       "      <th>score</th>\n",
       "      <th>country</th>\n",
       "      <th>city</th>\n",
       "      <th>region</th>\n",
       "    </tr>\n",
       "  </thead>\n",
       "  <tbody>\n",
       "    <tr>\n",
       "      <th>0</th>\n",
       "      <td>2021</td>\n",
       "      <td>1</td>\n",
       "      <td>Massachusetts Institute of Technology (MIT)</td>\n",
       "      <td>100.0</td>\n",
       "      <td>United States</td>\n",
       "      <td>Cambridge</td>\n",
       "      <td>North America</td>\n",
       "    </tr>\n",
       "    <tr>\n",
       "      <th>1</th>\n",
       "      <td>2021</td>\n",
       "      <td>2</td>\n",
       "      <td>Stanford University</td>\n",
       "      <td>98.4</td>\n",
       "      <td>United States</td>\n",
       "      <td>Stanford</td>\n",
       "      <td>North America</td>\n",
       "    </tr>\n",
       "    <tr>\n",
       "      <th>2</th>\n",
       "      <td>2021</td>\n",
       "      <td>3</td>\n",
       "      <td>Harvard University</td>\n",
       "      <td>97.9</td>\n",
       "      <td>United States</td>\n",
       "      <td>Cambridge</td>\n",
       "      <td>North America</td>\n",
       "    </tr>\n",
       "    <tr>\n",
       "      <th>3</th>\n",
       "      <td>2021</td>\n",
       "      <td>4</td>\n",
       "      <td>California Institute of Technology (Caltech)</td>\n",
       "      <td>97.0</td>\n",
       "      <td>United States</td>\n",
       "      <td>Pasadena</td>\n",
       "      <td>North America</td>\n",
       "    </tr>\n",
       "    <tr>\n",
       "      <th>8</th>\n",
       "      <td>2021</td>\n",
       "      <td>9</td>\n",
       "      <td>University of Chicago</td>\n",
       "      <td>93.1</td>\n",
       "      <td>United States</td>\n",
       "      <td>Chicago</td>\n",
       "      <td>North America</td>\n",
       "    </tr>\n",
       "    <tr>\n",
       "      <th>11</th>\n",
       "      <td>2021</td>\n",
       "      <td>12</td>\n",
       "      <td>Princeton University</td>\n",
       "      <td>91.0</td>\n",
       "      <td>United States</td>\n",
       "      <td>Princeton</td>\n",
       "      <td>North America</td>\n",
       "    </tr>\n",
       "    <tr>\n",
       "      <th>15</th>\n",
       "      <td>2021</td>\n",
       "      <td>16</td>\n",
       "      <td>University of Pennsylvania</td>\n",
       "      <td>88.6</td>\n",
       "      <td>United States</td>\n",
       "      <td>Philadelphia</td>\n",
       "      <td>North America</td>\n",
       "    </tr>\n",
       "    <tr>\n",
       "      <th>16</th>\n",
       "      <td>2021</td>\n",
       "      <td>17</td>\n",
       "      <td>Yale University</td>\n",
       "      <td>88.0</td>\n",
       "      <td>United States</td>\n",
       "      <td>New Haven</td>\n",
       "      <td>North America</td>\n",
       "    </tr>\n",
       "    <tr>\n",
       "      <th>17</th>\n",
       "      <td>2021</td>\n",
       "      <td>18</td>\n",
       "      <td>Cornell University</td>\n",
       "      <td>87.6</td>\n",
       "      <td>United States</td>\n",
       "      <td>Ithaca</td>\n",
       "      <td>North America</td>\n",
       "    </tr>\n",
       "    <tr>\n",
       "      <th>18</th>\n",
       "      <td>2021</td>\n",
       "      <td>19</td>\n",
       "      <td>Columbia University</td>\n",
       "      <td>86.5</td>\n",
       "      <td>United States</td>\n",
       "      <td>New York City</td>\n",
       "      <td>North America</td>\n",
       "    </tr>\n",
       "  </tbody>\n",
       "</table>\n",
       "</div>"
      ],
      "text/plain": [
       "    year rank_display                                    university  score  \\\n",
       "0   2021            1  Massachusetts Institute of Technology (MIT)   100.0   \n",
       "1   2021            2                           Stanford University   98.4   \n",
       "2   2021            3                            Harvard University   97.9   \n",
       "3   2021            4  California Institute of Technology (Caltech)   97.0   \n",
       "8   2021            9                         University of Chicago   93.1   \n",
       "11  2021           12                          Princeton University   91.0   \n",
       "15  2021           16                    University of Pennsylvania   88.6   \n",
       "16  2021           17                               Yale University   88.0   \n",
       "17  2021           18                            Cornell University   87.6   \n",
       "18  2021           19                           Columbia University   86.5   \n",
       "\n",
       "          country           city         region  \n",
       "0   United States      Cambridge  North America  \n",
       "1   United States       Stanford  North America  \n",
       "2   United States      Cambridge  North America  \n",
       "3   United States       Pasadena  North America  \n",
       "8   United States        Chicago  North America  \n",
       "11  United States      Princeton  North America  \n",
       "15  United States   Philadelphia  North America  \n",
       "16  United States      New Haven  North America  \n",
       "17  United States         Ithaca  North America  \n",
       "18  United States  New York City  North America  "
      ]
     },
     "execution_count": 35,
     "metadata": {},
     "output_type": "execute_result"
    }
   ],
   "source": [
    "df_us_uni"
   ]
  },
  {
   "cell_type": "code",
   "execution_count": 48,
   "metadata": {},
   "outputs": [
    {
     "data": {
      "text/plain": [
       "(array([0, 1, 2, 3, 4, 5, 6, 7, 8, 9]),\n",
       " [Text(0, 0, 'Massachusetts Institute of Technology (MIT) '),\n",
       "  Text(1, 0, 'Stanford University'),\n",
       "  Text(2, 0, 'Harvard University'),\n",
       "  Text(3, 0, 'California Institute of Technology (Caltech)'),\n",
       "  Text(4, 0, 'University of Chicago'),\n",
       "  Text(5, 0, 'Princeton University'),\n",
       "  Text(6, 0, 'University of Pennsylvania'),\n",
       "  Text(7, 0, 'Yale University'),\n",
       "  Text(8, 0, 'Cornell University'),\n",
       "  Text(9, 0, 'Columbia University')])"
      ]
     },
     "execution_count": 48,
     "metadata": {},
     "output_type": "execute_result"
    },
    {
     "data": {
      "image/png": "[encoded data removed]",
      "text/plain": [
       "<Figure size 1440x576 with 1 Axes>"
      ]
     },
     "metadata": {
      "needs_background": "light"
     },
     "output_type": "display_data"
    }
   ],
   "source": [
    "ax = df_us_uni.plot.bar(x = 'university', y = 'score',color=['tab:blue', 'tab:orange', 'tab:green', 'tab:red', 'tab:purple','tab:brown', 'tab:pink', 'tab:gray','tab:olive', 'tab:cyan'], figsize=(20,8))\n",
    "ax.set_title('Top Universities in the United States',fontsize = 20)\n",
    "ax.set_xlabel('University', fontsize = 18)\n",
    "ax.set_ylabel('Score', fontsize = 18)\n",
    "plt.xticks(rotation=75)"
   ]
  },
  {
   "cell_type": "markdown",
   "metadata": {},
   "source": [
    "# Top University in Hong Kong"
   ]
  },
  {
   "cell_type": "code",
   "execution_count": 37,
   "metadata": {},
   "outputs": [],
   "source": [
    "df_hk_uni = df_uni[df_uni['city'] == 'Hong Kong'].head(6)"
   ]
  },
  {
   "cell_type": "code",
   "execution_count": 38,
   "metadata": {},
   "outputs": [
    {
     "data": {
      "text/html": [
       "<div>\n",
       "<style scoped>\n",
       "    .dataframe tbody tr th:only-of-type {\n",
       "        vertical-align: middle;\n",
       "    }\n",
       "\n",
       "    .dataframe tbody tr th {\n",
       "        vertical-align: top;\n",
       "    }\n",
       "\n",
       "    .dataframe thead th {\n",
       "        text-align: right;\n",
       "    }\n",
       "</style>\n",
       "<table border=\"1\" class=\"dataframe\">\n",
       "  <thead>\n",
       "    <tr style=\"text-align: right;\">\n",
       "      <th></th>\n",
       "      <th>year</th>\n",
       "      <th>rank_display</th>\n",
       "      <th>university</th>\n",
       "      <th>score</th>\n",
       "      <th>country</th>\n",
       "      <th>city</th>\n",
       "      <th>region</th>\n",
       "    </tr>\n",
       "  </thead>\n",
       "  <tbody>\n",
       "    <tr>\n",
       "      <th>21</th>\n",
       "      <td>2021</td>\n",
       "      <td>22</td>\n",
       "      <td>The University of Hong Kong</td>\n",
       "      <td>83.7</td>\n",
       "      <td>Hong Kong SAR</td>\n",
       "      <td>Hong Kong</td>\n",
       "      <td>Asia</td>\n",
       "    </tr>\n",
       "    <tr>\n",
       "      <th>26</th>\n",
       "      <td>2021</td>\n",
       "      <td>27</td>\n",
       "      <td>The Hong Kong University of Science and Techno...</td>\n",
       "      <td>82.1</td>\n",
       "      <td>Hong Kong SAR</td>\n",
       "      <td>Hong Kong</td>\n",
       "      <td>Asia</td>\n",
       "    </tr>\n",
       "    <tr>\n",
       "      <th>42</th>\n",
       "      <td>2021</td>\n",
       "      <td>43</td>\n",
       "      <td>The Chinese University of Hong Kong (CUHK)</td>\n",
       "      <td>75.8</td>\n",
       "      <td>Hong Kong SAR</td>\n",
       "      <td>Hong Kong</td>\n",
       "      <td>Asia</td>\n",
       "    </tr>\n",
       "    <tr>\n",
       "      <th>47</th>\n",
       "      <td>2021</td>\n",
       "      <td>48</td>\n",
       "      <td>City University of Hong Kong</td>\n",
       "      <td>74.3</td>\n",
       "      <td>Hong Kong SAR</td>\n",
       "      <td>Hong Kong</td>\n",
       "      <td>Asia</td>\n",
       "    </tr>\n",
       "    <tr>\n",
       "      <th>74</th>\n",
       "      <td>2021</td>\n",
       "      <td>75</td>\n",
       "      <td>The Hong Kong Polytechnic University</td>\n",
       "      <td>65.8</td>\n",
       "      <td>Hong Kong SAR</td>\n",
       "      <td>Hong Kong</td>\n",
       "      <td>Asia</td>\n",
       "    </tr>\n",
       "    <tr>\n",
       "      <th>263</th>\n",
       "      <td>2021</td>\n",
       "      <td>264</td>\n",
       "      <td>Hong Kong Baptist University</td>\n",
       "      <td>36.3</td>\n",
       "      <td>Hong Kong SAR</td>\n",
       "      <td>Hong Kong</td>\n",
       "      <td>Asia</td>\n",
       "    </tr>\n",
       "  </tbody>\n",
       "</table>\n",
       "</div>"
      ],
      "text/plain": [
       "     year rank_display                                         university  \\\n",
       "21   2021           22                        The University of Hong Kong   \n",
       "26   2021           27  The Hong Kong University of Science and Techno...   \n",
       "42   2021           43         The Chinese University of Hong Kong (CUHK)   \n",
       "47   2021           48                       City University of Hong Kong   \n",
       "74   2021           75               The Hong Kong Polytechnic University   \n",
       "263  2021          264                       Hong Kong Baptist University   \n",
       "\n",
       "     score        country       city region  \n",
       "21    83.7  Hong Kong SAR  Hong Kong   Asia  \n",
       "26    82.1  Hong Kong SAR  Hong Kong   Asia  \n",
       "42    75.8  Hong Kong SAR  Hong Kong   Asia  \n",
       "47    74.3  Hong Kong SAR  Hong Kong   Asia  \n",
       "74    65.8  Hong Kong SAR  Hong Kong   Asia  \n",
       "263   36.3  Hong Kong SAR  Hong Kong   Asia  "
      ]
     },
     "execution_count": 38,
     "metadata": {},
     "output_type": "execute_result"
    }
   ],
   "source": [
    "df_hk_uni"
   ]
  },
  {
   "cell_type": "code",
   "execution_count": 46,
   "metadata": {},
   "outputs": [
    {
     "data": {
      "text/plain": [
       "(array([0, 1, 2, 3, 4, 5]),\n",
       " [Text(0, 0, 'The University of Hong Kong'),\n",
       "  Text(1, 0, 'The Hong Kong University of Science and Technology'),\n",
       "  Text(2, 0, 'The Chinese University of Hong Kong (CUHK)'),\n",
       "  Text(3, 0, 'City University of Hong Kong'),\n",
       "  Text(4, 0, 'The Hong Kong Polytechnic University'),\n",
       "  Text(5, 0, 'Hong Kong Baptist University')])"
      ]
     },
     "execution_count": 46,
     "metadata": {},
     "output_type": "execute_result"
    },
    {
     "data": {
      "image/png": "[encoded data removed]",
      "text/plain": [
       "<Figure size 1440x576 with 1 Axes>"
      ]
     },
     "metadata": {
      "needs_background": "light"
     },
     "output_type": "display_data"
    }
   ],
   "source": [
    "ax = df_hk_uni.plot.bar(x = 'university', y = 'score',color=['tab:blue', 'tab:orange', 'tab:green', 'tab:red', 'tab:purple','tab:brown', 'tab:pink', 'tab:gray','tab:olive', 'tab:cyan'],figsize=(20,8))\n",
    "ax.set_title('Top Universities in Hong Kong',fontsize = 20)\n",
    "ax.set_xlabel('University', fontsize = 18)\n",
    "ax.set_ylabel('Score', fontsize = 18)\n",
    "plt.xticks(rotation=55)"
   ]
  },
  {
   "cell_type": "code",
   "execution_count": 40,
   "metadata": {},
   "outputs": [],
   "source": [
    "df_kr_uni = df_uni[df_uni['country'] == 'South Korea'].head(10)"
   ]
  },
  {
   "cell_type": "code",
   "execution_count": 41,
   "metadata": {},
   "outputs": [
    {
     "data": {
      "text/html": [
       "<div>\n",
       "<style scoped>\n",
       "    .dataframe tbody tr th:only-of-type {\n",
       "        vertical-align: middle;\n",
       "    }\n",
       "\n",
       "    .dataframe tbody tr th {\n",
       "        vertical-align: top;\n",
       "    }\n",
       "\n",
       "    .dataframe thead th {\n",
       "        text-align: right;\n",
       "    }\n",
       "</style>\n",
       "<table border=\"1\" class=\"dataframe\">\n",
       "  <thead>\n",
       "    <tr style=\"text-align: right;\">\n",
       "      <th></th>\n",
       "      <th>year</th>\n",
       "      <th>rank_display</th>\n",
       "      <th>university</th>\n",
       "      <th>score</th>\n",
       "      <th>country</th>\n",
       "      <th>city</th>\n",
       "      <th>region</th>\n",
       "    </tr>\n",
       "  </thead>\n",
       "  <tbody>\n",
       "    <tr>\n",
       "      <th>36</th>\n",
       "      <td>2021</td>\n",
       "      <td>37</td>\n",
       "      <td>Seoul National University</td>\n",
       "      <td>79.0</td>\n",
       "      <td>South Korea</td>\n",
       "      <td>Seoul</td>\n",
       "      <td>Asia</td>\n",
       "    </tr>\n",
       "    <tr>\n",
       "      <th>38</th>\n",
       "      <td>2021</td>\n",
       "      <td>39</td>\n",
       "      <td>KAIST - Korea Advanced Institute of Science &amp; ...</td>\n",
       "      <td>78.6</td>\n",
       "      <td>South Korea</td>\n",
       "      <td>Daejeon</td>\n",
       "      <td>Asia</td>\n",
       "    </tr>\n",
       "    <tr>\n",
       "      <th>68</th>\n",
       "      <td>2021</td>\n",
       "      <td>69</td>\n",
       "      <td>Korea University</td>\n",
       "      <td>67.1</td>\n",
       "      <td>South Korea</td>\n",
       "      <td>Seoul</td>\n",
       "      <td>Asia</td>\n",
       "    </tr>\n",
       "    <tr>\n",
       "      <th>76</th>\n",
       "      <td>2021</td>\n",
       "      <td>77</td>\n",
       "      <td>Pohang University of Science And Technology (P...</td>\n",
       "      <td>64.6</td>\n",
       "      <td>South Korea</td>\n",
       "      <td>Pohang</td>\n",
       "      <td>Asia</td>\n",
       "    </tr>\n",
       "    <tr>\n",
       "      <th>85</th>\n",
       "      <td>2021</td>\n",
       "      <td>85</td>\n",
       "      <td>Yonsei University</td>\n",
       "      <td>62.5</td>\n",
       "      <td>South Korea</td>\n",
       "      <td>Seoul</td>\n",
       "      <td>Asia</td>\n",
       "    </tr>\n",
       "    <tr>\n",
       "      <th>87</th>\n",
       "      <td>2021</td>\n",
       "      <td>88</td>\n",
       "      <td>Sungkyunkwan University(SKKU)</td>\n",
       "      <td>61.5</td>\n",
       "      <td>South Korea</td>\n",
       "      <td>Suwon</td>\n",
       "      <td>Asia</td>\n",
       "    </tr>\n",
       "    <tr>\n",
       "      <th>145</th>\n",
       "      <td>2021</td>\n",
       "      <td>146</td>\n",
       "      <td>Hanyang University</td>\n",
       "      <td>51.3</td>\n",
       "      <td>South Korea</td>\n",
       "      <td>Seoul</td>\n",
       "      <td>Asia</td>\n",
       "    </tr>\n",
       "    <tr>\n",
       "      <th>235</th>\n",
       "      <td>2021</td>\n",
       "      <td>236</td>\n",
       "      <td>Kyung Hee University</td>\n",
       "      <td>38.8</td>\n",
       "      <td>South Korea</td>\n",
       "      <td>NaN</td>\n",
       "      <td>Asia</td>\n",
       "    </tr>\n",
       "    <tr>\n",
       "      <th>294</th>\n",
       "      <td>2021</td>\n",
       "      <td>295</td>\n",
       "      <td>Gwangju Institute of Science and Technology (G...</td>\n",
       "      <td>34.5</td>\n",
       "      <td>South Korea</td>\n",
       "      <td>Gwangju</td>\n",
       "      <td>Asia</td>\n",
       "    </tr>\n",
       "    <tr>\n",
       "      <th>334</th>\n",
       "      <td>2021</td>\n",
       "      <td>333</td>\n",
       "      <td>Ewha Womans University</td>\n",
       "      <td>31.7</td>\n",
       "      <td>South Korea</td>\n",
       "      <td>Seoul</td>\n",
       "      <td>Asia</td>\n",
       "    </tr>\n",
       "  </tbody>\n",
       "</table>\n",
       "</div>"
      ],
      "text/plain": [
       "     year rank_display                                         university  \\\n",
       "36   2021           37                          Seoul National University   \n",
       "38   2021           39  KAIST - Korea Advanced Institute of Science & ...   \n",
       "68   2021           69                                   Korea University   \n",
       "76   2021           77  Pohang University of Science And Technology (P...   \n",
       "85   2021           85                                  Yonsei University   \n",
       "87   2021           88                      Sungkyunkwan University(SKKU)   \n",
       "145  2021          146                                 Hanyang University   \n",
       "235  2021          236                               Kyung Hee University   \n",
       "294  2021          295  Gwangju Institute of Science and Technology (G...   \n",
       "334  2021          333                             Ewha Womans University   \n",
       "\n",
       "     score      country     city region  \n",
       "36    79.0  South Korea    Seoul   Asia  \n",
       "38    78.6  South Korea  Daejeon   Asia  \n",
       "68    67.1  South Korea    Seoul   Asia  \n",
       "76    64.6  South Korea  Pohang    Asia  \n",
       "85    62.5  South Korea    Seoul   Asia  \n",
       "87    61.5  South Korea    Suwon   Asia  \n",
       "145   51.3  South Korea    Seoul   Asia  \n",
       "235   38.8  South Korea      NaN   Asia  \n",
       "294   34.5  South Korea  Gwangju   Asia  \n",
       "334   31.7  South Korea    Seoul   Asia  "
      ]
     },
     "execution_count": 41,
     "metadata": {},
     "output_type": "execute_result"
    }
   ],
   "source": [
    "df_kr_uni"
   ]
  },
  {
   "cell_type": "code",
   "execution_count": 47,
   "metadata": {},
   "outputs": [
    {
     "data": {
      "text/plain": [
       "(array([0, 1, 2, 3, 4, 5, 6, 7, 8, 9]),\n",
       " [Text(0, 0, 'Seoul National University'),\n",
       "  Text(1, 0, 'KAIST - Korea Advanced Institute of Science & Technology'),\n",
       "  Text(2, 0, 'Korea University'),\n",
       "  Text(3, 0, 'Pohang University of Science And Technology (POSTECH)'),\n",
       "  Text(4, 0, 'Yonsei University'),\n",
       "  Text(5, 0, 'Sungkyunkwan University(SKKU)'),\n",
       "  Text(6, 0, 'Hanyang University'),\n",
       "  Text(7, 0, 'Kyung Hee University'),\n",
       "  Text(8, 0, 'Gwangju Institute of Science and Technology (GIST)'),\n",
       "  Text(9, 0, 'Ewha Womans University')])"
      ]
     },
     "execution_count": 47,
     "metadata": {},
     "output_type": "execute_result"
    },
    {
     "data": {
      "image/png": "[encoded data removed]",
      "text/plain": [
       "<Figure size 1440x576 with 1 Axes>"
      ]
     },
     "metadata": {
      "needs_background": "light"
     },
     "output_type": "display_data"
    }
   ],
   "source": [
    "ax = df_kr_uni.plot.bar(x = 'university', y = 'score', color=['tab:blue', 'tab:orange', 'tab:green', 'tab:red', 'tab:purple','tab:brown', 'tab:pink', 'tab:gray','tab:olive', 'tab:cyan'],figsize=(20,8))\n",
    "ax.set_title('Top Universities in South Korea',fontsize = 20)\n",
    "ax.set_xlabel('University', fontsize = 18)\n",
    "ax.set_ylabel('Score', fontsize = 18)\n",
    "plt.xticks(rotation=75)"
   ]
  },
  {
   "cell_type": "code",
   "execution_count": 50,
   "metadata": {},
   "outputs": [],
   "source": [
    "import jovian"
   ]
  },
  {
   "cell_type": "code",
   "execution_count": null,
   "metadata": {},
   "outputs": [
    {
     "data": {
      "application/javascript": [
       "window.require && require([\"base/js/namespace\"],function(Jupyter){Jupyter.notebook.save_checkpoint()})"
      ],
      "text/plain": [
       "<IPython.core.display.Javascript object>"
      ]
     },
     "metadata": {},
     "output_type": "display_data"
    }
   ],
   "source": [
    "jovian.commit()"
   ]
  }
 ],
 "metadata": {
  "kernelspec": {
   "display_name": "Python 3 (ipykernel)",
   "language": "python",
   "name": "python3"
  },
  "language_info": {
   "codemirror_mode": {
    "name": "ipython",
    "version": 3
   },
   "file_extension": ".py",
   "mimetype": "text/x-python",
   "name": "python",
   "nbconvert_exporter": "python",
   "pygments_lexer": "ipython3",
   "version": "3.9.6"
  }
 },
 "nbformat": 4,
 "nbformat_minor": 4
}
